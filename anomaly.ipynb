{
 "cells": [
  {
   "cell_type": "code",
   "execution_count": 6,
   "outputs": [
    {
     "data": {
      "text/plain": "payment_type  base_salary   food  housing  non_recurring  phone_bill  \\\nmonth                                                                  \n2023-01-31         3000.0  300.0    800.0          252.0       100.0   \n2023-02-28         3000.0  300.0    787.0            NaN       100.0   \n2023-03-31         3408.0  693.0   1157.0            NaN       585.0   \n2023-04-30         3000.0  300.0    800.0            NaN       100.0   \n2023-05-31         3000.0  300.0    800.0          356.0       100.0   \n2023-06-30         3289.0  763.0   1074.0            NaN       254.0   \n2023-07-31         3000.0  300.0    800.0          720.0       100.0   \n2023-08-31         2988.0  300.0    800.0            NaN        83.0   \n2023-09-30         3000.0  300.0    800.0          671.0       100.0   \n2023-10-31         3000.0  300.0    800.0          698.0       100.0   \n2023-11-30         6000.0  300.0    845.0            NaN       100.0   \n2023-12-31         3000.0  300.0    800.0            NaN       100.0   \n\npayment_type  transport  \nmonth                    \n2023-01-31        200.0  \n2023-02-28        200.0  \n2023-03-31        643.0  \n2023-04-30        200.0  \n2023-05-31        200.0  \n2023-06-30        350.0  \n2023-07-31        200.0  \n2023-08-31        200.0  \n2023-09-30        200.0  \n2023-10-31        200.0  \n2023-11-30        200.0  \n2023-12-31        289.0  ",
      "text/html": "<div>\n<style scoped>\n    .dataframe tbody tr th:only-of-type {\n        vertical-align: middle;\n    }\n\n    .dataframe tbody tr th {\n        vertical-align: top;\n    }\n\n    .dataframe thead th {\n        text-align: right;\n    }\n</style>\n<table border=\"1\" class=\"dataframe\">\n  <thead>\n    <tr style=\"text-align: right;\">\n      <th>payment_type</th>\n      <th>base_salary</th>\n      <th>food</th>\n      <th>housing</th>\n      <th>non_recurring</th>\n      <th>phone_bill</th>\n      <th>transport</th>\n    </tr>\n    <tr>\n      <th>month</th>\n      <th></th>\n      <th></th>\n      <th></th>\n      <th></th>\n      <th></th>\n      <th></th>\n    </tr>\n  </thead>\n  <tbody>\n    <tr>\n      <th>2023-01-31</th>\n      <td>3000.0</td>\n      <td>300.0</td>\n      <td>800.0</td>\n      <td>252.0</td>\n      <td>100.0</td>\n      <td>200.0</td>\n    </tr>\n    <tr>\n      <th>2023-02-28</th>\n      <td>3000.0</td>\n      <td>300.0</td>\n      <td>787.0</td>\n      <td>NaN</td>\n      <td>100.0</td>\n      <td>200.0</td>\n    </tr>\n    <tr>\n      <th>2023-03-31</th>\n      <td>3408.0</td>\n      <td>693.0</td>\n      <td>1157.0</td>\n      <td>NaN</td>\n      <td>585.0</td>\n      <td>643.0</td>\n    </tr>\n    <tr>\n      <th>2023-04-30</th>\n      <td>3000.0</td>\n      <td>300.0</td>\n      <td>800.0</td>\n      <td>NaN</td>\n      <td>100.0</td>\n      <td>200.0</td>\n    </tr>\n    <tr>\n      <th>2023-05-31</th>\n      <td>3000.0</td>\n      <td>300.0</td>\n      <td>800.0</td>\n      <td>356.0</td>\n      <td>100.0</td>\n      <td>200.0</td>\n    </tr>\n    <tr>\n      <th>2023-06-30</th>\n      <td>3289.0</td>\n      <td>763.0</td>\n      <td>1074.0</td>\n      <td>NaN</td>\n      <td>254.0</td>\n      <td>350.0</td>\n    </tr>\n    <tr>\n      <th>2023-07-31</th>\n      <td>3000.0</td>\n      <td>300.0</td>\n      <td>800.0</td>\n      <td>720.0</td>\n      <td>100.0</td>\n      <td>200.0</td>\n    </tr>\n    <tr>\n      <th>2023-08-31</th>\n      <td>2988.0</td>\n      <td>300.0</td>\n      <td>800.0</td>\n      <td>NaN</td>\n      <td>83.0</td>\n      <td>200.0</td>\n    </tr>\n    <tr>\n      <th>2023-09-30</th>\n      <td>3000.0</td>\n      <td>300.0</td>\n      <td>800.0</td>\n      <td>671.0</td>\n      <td>100.0</td>\n      <td>200.0</td>\n    </tr>\n    <tr>\n      <th>2023-10-31</th>\n      <td>3000.0</td>\n      <td>300.0</td>\n      <td>800.0</td>\n      <td>698.0</td>\n      <td>100.0</td>\n      <td>200.0</td>\n    </tr>\n    <tr>\n      <th>2023-11-30</th>\n      <td>6000.0</td>\n      <td>300.0</td>\n      <td>845.0</td>\n      <td>NaN</td>\n      <td>100.0</td>\n      <td>200.0</td>\n    </tr>\n    <tr>\n      <th>2023-12-31</th>\n      <td>3000.0</td>\n      <td>300.0</td>\n      <td>800.0</td>\n      <td>NaN</td>\n      <td>100.0</td>\n      <td>289.0</td>\n    </tr>\n  </tbody>\n</table>\n</div>"
     },
     "execution_count": 6,
     "metadata": {},
     "output_type": "execute_result"
    }
   ],
   "source": [
    "from scipy import stats\n",
    "import pandas as pd\n",
    "\n",
    "# Sample data\n",
    "df = pd.read_csv(\"/Users/mukhit.ismailov/Work/MLModel/monthly_payment_data.csv\")\n",
    "# Pivot the DataFrame to have payment types as columns\n",
    "pivot_df = df.pivot(index='month', columns='payment_type', values='amount')\n",
    "pivot_df"
   ],
   "metadata": {
    "collapsed": false
   }
  },
  {
   "cell_type": "code",
   "execution_count": 7,
   "outputs": [
    {
     "data": {
      "text/plain": "payment_type  base_salary      food   housing  non_recurring  phone_bill  \\\nmonth                                                                      \n2023-01-31      -0.373343 -0.445430 -0.466825       0.092567   -0.376874   \n2023-02-28      -0.373343 -0.445430 -0.576666      -0.763462   -0.376874   \n2023-03-31       0.122692  2.008598  2.549583      -0.763462    3.149507   \n2023-04-30      -0.373343 -0.445430 -0.466825      -0.763462   -0.376874   \n2023-05-31      -0.373343 -0.445430 -0.466825       0.445848   -0.376874   \n2023-06-30      -0.021985  2.445702  1.848290      -0.763462    0.742843   \n2023-07-31      -0.373343 -0.445430 -0.466825       1.682334   -0.376874   \n2023-08-31      -0.387932 -0.445430 -0.466825      -0.763462   -0.500480   \n2023-09-30      -0.373343 -0.445430 -0.466825       1.515884   -0.376874   \n2023-10-31      -0.373343 -0.445430 -0.466825       1.607601   -0.376874   \n2023-11-30       3.273972 -0.445430 -0.086606      -0.763462   -0.376874   \n2023-12-31      -0.373343 -0.445430 -0.466825      -0.763462   -0.376874   \n\npayment_type  transport  \nmonth                    \n2023-01-31    -0.454171  \n2023-02-28    -0.454171  \n2023-03-31     3.085964  \n2023-04-30    -0.454171  \n2023-05-31    -0.454171  \n2023-06-30     0.744520  \n2023-07-31    -0.454171  \n2023-08-31    -0.454171  \n2023-09-30    -0.454171  \n2023-10-31    -0.454171  \n2023-11-30    -0.454171  \n2023-12-31     0.257053  ",
      "text/html": "<div>\n<style scoped>\n    .dataframe tbody tr th:only-of-type {\n        vertical-align: middle;\n    }\n\n    .dataframe tbody tr th {\n        vertical-align: top;\n    }\n\n    .dataframe thead th {\n        text-align: right;\n    }\n</style>\n<table border=\"1\" class=\"dataframe\">\n  <thead>\n    <tr style=\"text-align: right;\">\n      <th>payment_type</th>\n      <th>base_salary</th>\n      <th>food</th>\n      <th>housing</th>\n      <th>non_recurring</th>\n      <th>phone_bill</th>\n      <th>transport</th>\n    </tr>\n    <tr>\n      <th>month</th>\n      <th></th>\n      <th></th>\n      <th></th>\n      <th></th>\n      <th></th>\n      <th></th>\n    </tr>\n  </thead>\n  <tbody>\n    <tr>\n      <th>2023-01-31</th>\n      <td>-0.373343</td>\n      <td>-0.445430</td>\n      <td>-0.466825</td>\n      <td>0.092567</td>\n      <td>-0.376874</td>\n      <td>-0.454171</td>\n    </tr>\n    <tr>\n      <th>2023-02-28</th>\n      <td>-0.373343</td>\n      <td>-0.445430</td>\n      <td>-0.576666</td>\n      <td>-0.763462</td>\n      <td>-0.376874</td>\n      <td>-0.454171</td>\n    </tr>\n    <tr>\n      <th>2023-03-31</th>\n      <td>0.122692</td>\n      <td>2.008598</td>\n      <td>2.549583</td>\n      <td>-0.763462</td>\n      <td>3.149507</td>\n      <td>3.085964</td>\n    </tr>\n    <tr>\n      <th>2023-04-30</th>\n      <td>-0.373343</td>\n      <td>-0.445430</td>\n      <td>-0.466825</td>\n      <td>-0.763462</td>\n      <td>-0.376874</td>\n      <td>-0.454171</td>\n    </tr>\n    <tr>\n      <th>2023-05-31</th>\n      <td>-0.373343</td>\n      <td>-0.445430</td>\n      <td>-0.466825</td>\n      <td>0.445848</td>\n      <td>-0.376874</td>\n      <td>-0.454171</td>\n    </tr>\n    <tr>\n      <th>2023-06-30</th>\n      <td>-0.021985</td>\n      <td>2.445702</td>\n      <td>1.848290</td>\n      <td>-0.763462</td>\n      <td>0.742843</td>\n      <td>0.744520</td>\n    </tr>\n    <tr>\n      <th>2023-07-31</th>\n      <td>-0.373343</td>\n      <td>-0.445430</td>\n      <td>-0.466825</td>\n      <td>1.682334</td>\n      <td>-0.376874</td>\n      <td>-0.454171</td>\n    </tr>\n    <tr>\n      <th>2023-08-31</th>\n      <td>-0.387932</td>\n      <td>-0.445430</td>\n      <td>-0.466825</td>\n      <td>-0.763462</td>\n      <td>-0.500480</td>\n      <td>-0.454171</td>\n    </tr>\n    <tr>\n      <th>2023-09-30</th>\n      <td>-0.373343</td>\n      <td>-0.445430</td>\n      <td>-0.466825</td>\n      <td>1.515884</td>\n      <td>-0.376874</td>\n      <td>-0.454171</td>\n    </tr>\n    <tr>\n      <th>2023-10-31</th>\n      <td>-0.373343</td>\n      <td>-0.445430</td>\n      <td>-0.466825</td>\n      <td>1.607601</td>\n      <td>-0.376874</td>\n      <td>-0.454171</td>\n    </tr>\n    <tr>\n      <th>2023-11-30</th>\n      <td>3.273972</td>\n      <td>-0.445430</td>\n      <td>-0.086606</td>\n      <td>-0.763462</td>\n      <td>-0.376874</td>\n      <td>-0.454171</td>\n    </tr>\n    <tr>\n      <th>2023-12-31</th>\n      <td>-0.373343</td>\n      <td>-0.445430</td>\n      <td>-0.466825</td>\n      <td>-0.763462</td>\n      <td>-0.376874</td>\n      <td>0.257053</td>\n    </tr>\n  </tbody>\n</table>\n</div>"
     },
     "execution_count": 7,
     "metadata": {},
     "output_type": "execute_result"
    }
   ],
   "source": [
    "z_scores = stats.zscore(pivot_df.fillna(0), axis=0)\n",
    "# Create a DataFrame to store z-scores and identify anomalies\n",
    "z_score_df = pd.DataFrame(z_scores, index=pivot_df.index, columns=pivot_df.columns)\n",
    "z_score_df\n"
   ],
   "metadata": {
    "collapsed": false
   }
  },
  {
   "cell_type": "code",
   "execution_count": 8,
   "outputs": [
    {
     "data": {
      "text/plain": "payment_type  base_salary  food  housing  non_recurring  phone_bill  transport\nmonth                                                                         \n2023-03-31            NaN   NaN      NaN            NaN    3.149507   3.085964\n2023-11-30       3.273972   NaN      NaN            NaN         NaN        NaN",
      "text/html": "<div>\n<style scoped>\n    .dataframe tbody tr th:only-of-type {\n        vertical-align: middle;\n    }\n\n    .dataframe tbody tr th {\n        vertical-align: top;\n    }\n\n    .dataframe thead th {\n        text-align: right;\n    }\n</style>\n<table border=\"1\" class=\"dataframe\">\n  <thead>\n    <tr style=\"text-align: right;\">\n      <th>payment_type</th>\n      <th>base_salary</th>\n      <th>food</th>\n      <th>housing</th>\n      <th>non_recurring</th>\n      <th>phone_bill</th>\n      <th>transport</th>\n    </tr>\n    <tr>\n      <th>month</th>\n      <th></th>\n      <th></th>\n      <th></th>\n      <th></th>\n      <th></th>\n      <th></th>\n    </tr>\n  </thead>\n  <tbody>\n    <tr>\n      <th>2023-03-31</th>\n      <td>NaN</td>\n      <td>NaN</td>\n      <td>NaN</td>\n      <td>NaN</td>\n      <td>3.149507</td>\n      <td>3.085964</td>\n    </tr>\n    <tr>\n      <th>2023-11-30</th>\n      <td>3.273972</td>\n      <td>NaN</td>\n      <td>NaN</td>\n      <td>NaN</td>\n      <td>NaN</td>\n      <td>NaN</td>\n    </tr>\n  </tbody>\n</table>\n</div>"
     },
     "execution_count": 8,
     "metadata": {},
     "output_type": "execute_result"
    }
   ],
   "source": [
    "threshold = 3\n",
    "anomalies = z_score_df[(z_score_df > threshold) | (z_score_df < -threshold)]\n",
    "anomalous_months = anomalies.dropna(how='all')\n",
    "anomalous_months"
   ],
   "metadata": {
    "collapsed": false
   }
  },
  {
   "cell_type": "code",
   "execution_count": null,
   "outputs": [],
   "source": [],
   "metadata": {
    "collapsed": false
   }
  }
 ],
 "metadata": {
  "kernelspec": {
   "display_name": "Python 3",
   "language": "python",
   "name": "python3"
  },
  "language_info": {
   "codemirror_mode": {
    "name": "ipython",
    "version": 2
   },
   "file_extension": ".py",
   "mimetype": "text/x-python",
   "name": "python",
   "nbconvert_exporter": "python",
   "pygments_lexer": "ipython2",
   "version": "2.7.6"
  }
 },
 "nbformat": 4,
 "nbformat_minor": 0
}
